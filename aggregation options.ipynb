{
 "cells": [
  {
   "cell_type": "code",
   "execution_count": 17,
   "id": "542e0247",
   "metadata": {},
   "outputs": [],
   "source": [
    "import pandas as pd\n",
    "import seaborn as sns\n",
    "import matplotlib.pyplot as plt\n",
    "import numpy as np"
   ]
  },
  {
   "cell_type": "code",
   "execution_count": 6,
   "id": "00b2da91",
   "metadata": {},
   "outputs": [],
   "source": [
    "df = pd.read_csv('data/large_countries_2015.csv', index_col=0)"
   ]
  },
  {
   "cell_type": "code",
   "execution_count": 7,
   "id": "79375542",
   "metadata": {},
   "outputs": [
    {
     "data": {
      "text/html": [
       "<div>\n",
       "<style scoped>\n",
       "    .dataframe tbody tr th:only-of-type {\n",
       "        vertical-align: middle;\n",
       "    }\n",
       "\n",
       "    .dataframe tbody tr th {\n",
       "        vertical-align: top;\n",
       "    }\n",
       "\n",
       "    .dataframe thead th {\n",
       "        text-align: right;\n",
       "    }\n",
       "</style>\n",
       "<table border=\"1\" class=\"dataframe\">\n",
       "  <thead>\n",
       "    <tr style=\"text-align: right;\">\n",
       "      <th></th>\n",
       "      <th>population</th>\n",
       "      <th>fertility</th>\n",
       "      <th>continent</th>\n",
       "    </tr>\n",
       "  </thead>\n",
       "  <tbody>\n",
       "    <tr>\n",
       "      <th>Bangladesh</th>\n",
       "      <td>1.609956e+08</td>\n",
       "      <td>2.12</td>\n",
       "      <td>Asia</td>\n",
       "    </tr>\n",
       "    <tr>\n",
       "      <th>Brazil</th>\n",
       "      <td>2.078475e+08</td>\n",
       "      <td>1.78</td>\n",
       "      <td>South America</td>\n",
       "    </tr>\n",
       "    <tr>\n",
       "      <th>China</th>\n",
       "      <td>1.376049e+09</td>\n",
       "      <td>1.57</td>\n",
       "      <td>Asia</td>\n",
       "    </tr>\n",
       "    <tr>\n",
       "      <th>India</th>\n",
       "      <td>1.311051e+09</td>\n",
       "      <td>2.43</td>\n",
       "      <td>Asia</td>\n",
       "    </tr>\n",
       "    <tr>\n",
       "      <th>Indonesia</th>\n",
       "      <td>2.575638e+08</td>\n",
       "      <td>2.28</td>\n",
       "      <td>Asia</td>\n",
       "    </tr>\n",
       "  </tbody>\n",
       "</table>\n",
       "</div>"
      ],
      "text/plain": [
       "              population  fertility      continent\n",
       "Bangladesh  1.609956e+08       2.12           Asia\n",
       "Brazil      2.078475e+08       1.78  South America\n",
       "China       1.376049e+09       1.57           Asia\n",
       "India       1.311051e+09       2.43           Asia\n",
       "Indonesia   2.575638e+08       2.28           Asia"
      ]
     },
     "execution_count": 7,
     "metadata": {},
     "output_type": "execute_result"
    }
   ],
   "source": [
    "df.head()"
   ]
  },
  {
   "cell_type": "code",
   "execution_count": 8,
   "id": "3bbe1334",
   "metadata": {},
   "outputs": [
    {
     "data": {
      "text/html": [
       "<div>\n",
       "<style scoped>\n",
       "    .dataframe tbody tr th:only-of-type {\n",
       "        vertical-align: middle;\n",
       "    }\n",
       "\n",
       "    .dataframe tbody tr th {\n",
       "        vertical-align: top;\n",
       "    }\n",
       "\n",
       "    .dataframe thead th {\n",
       "        text-align: right;\n",
       "    }\n",
       "</style>\n",
       "<table border=\"1\" class=\"dataframe\">\n",
       "  <thead>\n",
       "    <tr style=\"text-align: right;\">\n",
       "      <th></th>\n",
       "      <th>population</th>\n",
       "      <th>fertility</th>\n",
       "    </tr>\n",
       "    <tr>\n",
       "      <th>continent</th>\n",
       "      <th></th>\n",
       "      <th></th>\n",
       "    </tr>\n",
       "  </thead>\n",
       "  <tbody>\n",
       "    <tr>\n",
       "      <th>Africa</th>\n",
       "      <td>1.822020e+08</td>\n",
       "      <td>5.890000</td>\n",
       "    </tr>\n",
       "    <tr>\n",
       "      <th>Asia</th>\n",
       "      <td>5.031224e+08</td>\n",
       "      <td>2.267143</td>\n",
       "    </tr>\n",
       "    <tr>\n",
       "      <th>Europe</th>\n",
       "      <td>1.434569e+08</td>\n",
       "      <td>1.610000</td>\n",
       "    </tr>\n",
       "    <tr>\n",
       "      <th>North America</th>\n",
       "      <td>2.243954e+08</td>\n",
       "      <td>2.050000</td>\n",
       "    </tr>\n",
       "    <tr>\n",
       "      <th>South America</th>\n",
       "      <td>2.078475e+08</td>\n",
       "      <td>1.780000</td>\n",
       "    </tr>\n",
       "  </tbody>\n",
       "</table>\n",
       "</div>"
      ],
      "text/plain": [
       "                 population  fertility\n",
       "continent                             \n",
       "Africa         1.822020e+08   5.890000\n",
       "Asia           5.031224e+08   2.267143\n",
       "Europe         1.434569e+08   1.610000\n",
       "North America  2.243954e+08   2.050000\n",
       "South America  2.078475e+08   1.780000"
      ]
     },
     "execution_count": 8,
     "metadata": {},
     "output_type": "execute_result"
    }
   ],
   "source": [
    "df.groupby(by='continent').mean()"
   ]
  },
  {
   "cell_type": "code",
   "execution_count": 9,
   "id": "bfcce94e",
   "metadata": {},
   "outputs": [],
   "source": [
    "df['population'] = df['population'] / 1000000\n",
    "df['population'] = round(df['population'], 1) "
   ]
  },
  {
   "cell_type": "code",
   "execution_count": 10,
   "id": "c98ae793",
   "metadata": {
    "scrolled": true
   },
   "outputs": [
    {
     "data": {
      "text/html": [
       "<div>\n",
       "<style scoped>\n",
       "    .dataframe tbody tr th:only-of-type {\n",
       "        vertical-align: middle;\n",
       "    }\n",
       "\n",
       "    .dataframe tbody tr th {\n",
       "        vertical-align: top;\n",
       "    }\n",
       "\n",
       "    .dataframe thead th {\n",
       "        text-align: right;\n",
       "    }\n",
       "</style>\n",
       "<table border=\"1\" class=\"dataframe\">\n",
       "  <thead>\n",
       "    <tr style=\"text-align: right;\">\n",
       "      <th></th>\n",
       "      <th>population</th>\n",
       "      <th>fertility</th>\n",
       "      <th>continent</th>\n",
       "    </tr>\n",
       "  </thead>\n",
       "  <tbody>\n",
       "    <tr>\n",
       "      <th>Bangladesh</th>\n",
       "      <td>161.0</td>\n",
       "      <td>2.12</td>\n",
       "      <td>Asia</td>\n",
       "    </tr>\n",
       "    <tr>\n",
       "      <th>Brazil</th>\n",
       "      <td>207.8</td>\n",
       "      <td>1.78</td>\n",
       "      <td>South America</td>\n",
       "    </tr>\n",
       "    <tr>\n",
       "      <th>China</th>\n",
       "      <td>1376.0</td>\n",
       "      <td>1.57</td>\n",
       "      <td>Asia</td>\n",
       "    </tr>\n",
       "    <tr>\n",
       "      <th>India</th>\n",
       "      <td>1311.1</td>\n",
       "      <td>2.43</td>\n",
       "      <td>Asia</td>\n",
       "    </tr>\n",
       "    <tr>\n",
       "      <th>Indonesia</th>\n",
       "      <td>257.6</td>\n",
       "      <td>2.28</td>\n",
       "      <td>Asia</td>\n",
       "    </tr>\n",
       "  </tbody>\n",
       "</table>\n",
       "</div>"
      ],
      "text/plain": [
       "            population  fertility      continent\n",
       "Bangladesh       161.0       2.12           Asia\n",
       "Brazil           207.8       1.78  South America\n",
       "China           1376.0       1.57           Asia\n",
       "India           1311.1       2.43           Asia\n",
       "Indonesia        257.6       2.28           Asia"
      ]
     },
     "execution_count": 10,
     "metadata": {},
     "output_type": "execute_result"
    }
   ],
   "source": [
    "df.head()"
   ]
  },
  {
   "cell_type": "code",
   "execution_count": 11,
   "id": "e5a23cbc",
   "metadata": {},
   "outputs": [],
   "source": [
    "# Calculate the average population size of the large countries\n",
    "average_population = df['population'].mean()"
   ]
  },
  {
   "cell_type": "code",
   "execution_count": 13,
   "id": "2d1be045",
   "metadata": {},
   "outputs": [],
   "source": [
    "# Calculate the average population size by continent\n",
    "avg_pop_per_continent = round(df.groupby('continent')['population'].mean(), 2)"
   ]
  },
  {
   "cell_type": "code",
   "execution_count": 14,
   "id": "23539740",
   "metadata": {},
   "outputs": [
    {
     "data": {
      "text/plain": [
       "continent\n",
       "Africa           182.20\n",
       "Asia             503.13\n",
       "Europe           143.50\n",
       "North America    224.40\n",
       "South America    207.80\n",
       "Name: population, dtype: float64"
      ]
     },
     "execution_count": 14,
     "metadata": {},
     "output_type": "execute_result"
    }
   ],
   "source": [
    "avg_pop_per_continent"
   ]
  },
  {
   "cell_type": "code",
   "execution_count": 15,
   "id": "55da7ace",
   "metadata": {},
   "outputs": [
    {
     "data": {
      "text/plain": [
       "{'Africa': ['Nigeria'], 'Asia': ['Bangladesh', 'China', 'India', 'Indonesia', 'Japan', 'Pakistan', 'Philippines'], 'Europe': ['Russia'], 'North America': ['Mexico', 'United States'], 'South America': ['Brazil']}"
      ]
     },
     "execution_count": 15,
     "metadata": {},
     "output_type": "execute_result"
    }
   ],
   "source": [
    "# 1. by column\n",
    "g1 = df.groupby('continent')\n",
    "g1.groups\n"
   ]
  },
  {
   "cell_type": "code",
   "execution_count": 18,
   "id": "41d936b3",
   "metadata": {},
   "outputs": [
    {
     "data": {
      "text/plain": [
       "{False: ['Bangladesh', 'Indonesia', 'Nigeria', 'Pakistan', 'Philippines'], True: ['Brazil', 'China', 'India', 'Japan', 'Mexico', 'Russia', 'United States']}"
      ]
     },
     "execution_count": 18,
     "metadata": {},
     "output_type": "execute_result"
    }
   ],
   "source": [
    "# 2. by an array of equal length\n",
    "industrialized = np.array([False, True, True, True, False, True, True, False, False, False, True, True])\n",
    "g2 = df.groupby(industrialized)\n",
    "g2.groups"
   ]
  },
  {
   "cell_type": "code",
   "execution_count": 19,
   "id": "bb7d5e41",
   "metadata": {},
   "outputs": [
    {
     "data": {
      "text/plain": [
       "{'BN': ['Bangladesh', 'India'], 'CN': ['China'], 'EN': ['United States'], 'ES': ['Mexico'], 'JP': ['Japan'], 'MS': ['Indonesia'], 'NG': ['Nigeria'], 'PP': ['Philippines'], 'PT': ['Brazil'], 'RU': ['Russia'], 'UR': ['Pakistan']}"
      ]
     },
     "execution_count": 19,
     "metadata": {},
     "output_type": "execute_result"
    }
   ],
   "source": [
    "# 3. by a Dictionary with keys on the Index\n",
    "language = {'Bangladesh':'BN', 'Brazil':'PT', 'China':'CN',\n",
    "            'India':'BN', 'Indonesia':'MS', 'Japan':'JP',\n",
    "            'Mexico':'ES', 'Nigeria':'NG', 'Pakistan':'UR',\n",
    "            'Philippines':'PP', 'Russia':'RU', 'United States':'EN'}\n",
    "g3 = df.groupby(language)\n",
    "g3.groups\n",
    "\n"
   ]
  },
  {
   "cell_type": "code",
   "execution_count": 20,
   "id": "ce153ec7",
   "metadata": {},
   "outputs": [
    {
     "data": {
      "text/plain": [
       "{5: ['China', 'India', 'Japan'], 6: ['Brazil', 'Mexico', 'Russia'], 7: ['Nigeria'], 8: ['Pakistan'], 9: ['Indonesia'], 10: ['Bangladesh'], 11: ['Philippines'], 13: ['United States']}"
      ]
     },
     "execution_count": 20,
     "metadata": {},
     "output_type": "execute_result"
    }
   ],
   "source": [
    "# 4. by a function\n",
    "g4 = df.groupby(len)\n",
    "g4.groups\n"
   ]
  },
  {
   "cell_type": "code",
   "execution_count": 21,
   "id": "d73530e1",
   "metadata": {},
   "outputs": [
    {
     "data": {
      "text/plain": [
       "{('Africa', 'NG', 7): ['Nigeria'], ('Asia', 'BN', 5): ['India'], ('Asia', 'BN', 10): ['Bangladesh'], ('Asia', 'CN', 5): ['China'], ('Asia', 'JP', 5): ['Japan'], ('Asia', 'MS', 9): ['Indonesia'], ('Asia', 'PP', 11): ['Philippines'], ('Asia', 'UR', 8): ['Pakistan'], ('Europe', 'RU', 6): ['Russia'], ('North America', 'EN', 13): ['United States'], ('North America', 'ES', 6): ['Mexico'], ('South America', 'PT', 6): ['Brazil']}"
      ]
     },
     "execution_count": 21,
     "metadata": {},
     "output_type": "execute_result"
    }
   ],
   "source": [
    "\n",
    "# 5. a list of the above\n",
    "g5 = df.groupby(['continent', language, len])\n",
    "g5.groups\n"
   ]
  },
  {
   "cell_type": "code",
   "execution_count": 24,
   "id": "11e444f2",
   "metadata": {},
   "outputs": [
    {
     "name": "stderr",
     "output_type": "stream",
     "text": [
      "/tmp/ipykernel_15243/455943674.py:2: FutureWarning: DataFrame.groupby with axis=1 is deprecated. Do `frame.T.groupby(...)` without axis instead.\n",
      "  g6 = df[['population', 'fertility']].transpose().groupby(len, axis=1)\n"
     ]
    },
    {
     "data": {
      "text/plain": [
       "{5: ['China', 'India', 'Japan'], 6: ['Brazil', 'Mexico', 'Russia'], 7: ['Nigeria'], 8: ['Pakistan'], 9: ['Indonesia'], 10: ['Bangladesh'], 11: ['Philippines'], 13: ['United States']}"
      ]
     },
     "execution_count": 24,
     "metadata": {},
     "output_type": "execute_result"
    }
   ],
   "source": [
    "\n",
    "# 6. group along the x-axis\n",
    "g6 = df[['population', 'fertility']].transpose().groupby(len, axis=1)\n",
    "g6.groups"
   ]
  },
  {
   "cell_type": "code",
   "execution_count": 25,
   "id": "e6c1d85a",
   "metadata": {},
   "outputs": [
    {
     "name": "stdout",
     "output_type": "stream",
     "text": [
      "Africa          population  fertility continent\n",
      "Nigeria       182.2       5.89    Africa \n",
      "\n",
      "Asia              population  fertility continent\n",
      "Bangladesh        161.0       2.12      Asia\n",
      "China            1376.0       1.57      Asia\n",
      "India            1311.1       2.43      Asia\n",
      "Indonesia         257.6       2.28      Asia\n",
      "Japan             126.6       1.45      Asia\n",
      "Pakistan          188.9       3.04      Asia\n",
      "Philippines       100.7       2.98      Asia \n",
      "\n",
      "Europe         population  fertility continent\n",
      "Russia       143.5       1.61    Europe \n",
      "\n",
      "North America                population  fertility      continent\n",
      "Mexico              127.0       2.13  North America\n",
      "United States       321.8       1.97  North America \n",
      "\n",
      "South America         population  fertility      continent\n",
      "Brazil       207.8       1.78  South America \n",
      "\n"
     ]
    }
   ],
   "source": [
    "for i, df_group in df.groupby('continent'):\n",
    "    print(i, df_group, '\\n')"
   ]
  },
  {
   "cell_type": "code",
   "execution_count": 27,
   "id": "4da4aa9d",
   "metadata": {},
   "outputs": [
    {
     "data": {
      "text/html": [
       "<div>\n",
       "<style scoped>\n",
       "    .dataframe tbody tr th:only-of-type {\n",
       "        vertical-align: middle;\n",
       "    }\n",
       "\n",
       "    .dataframe tbody tr th {\n",
       "        vertical-align: top;\n",
       "    }\n",
       "\n",
       "    .dataframe thead th {\n",
       "        text-align: right;\n",
       "    }\n",
       "</style>\n",
       "<table border=\"1\" class=\"dataframe\">\n",
       "  <thead>\n",
       "    <tr style=\"text-align: right;\">\n",
       "      <th></th>\n",
       "      <th>population</th>\n",
       "      <th>fertility</th>\n",
       "    </tr>\n",
       "    <tr>\n",
       "      <th>continent</th>\n",
       "      <th></th>\n",
       "      <th></th>\n",
       "    </tr>\n",
       "  </thead>\n",
       "  <tbody>\n",
       "    <tr>\n",
       "      <th>Africa</th>\n",
       "      <td>0.0</td>\n",
       "      <td>0.00</td>\n",
       "    </tr>\n",
       "    <tr>\n",
       "      <th>Asia</th>\n",
       "      <td>2944.7</td>\n",
       "      <td>6.28</td>\n",
       "    </tr>\n",
       "    <tr>\n",
       "      <th>Europe</th>\n",
       "      <td>0.0</td>\n",
       "      <td>0.00</td>\n",
       "    </tr>\n",
       "    <tr>\n",
       "      <th>North America</th>\n",
       "      <td>321.8</td>\n",
       "      <td>1.97</td>\n",
       "    </tr>\n",
       "    <tr>\n",
       "      <th>South America</th>\n",
       "      <td>207.8</td>\n",
       "      <td>1.78</td>\n",
       "    </tr>\n",
       "  </tbody>\n",
       "</table>\n",
       "</div>"
      ],
      "text/plain": [
       "               population  fertility\n",
       "continent                           \n",
       "Africa                0.0       0.00\n",
       "Asia               2944.7       6.28\n",
       "Europe                0.0       0.00\n",
       "North America       321.8       1.97\n",
       "South America       207.8       1.78"
      ]
     },
     "execution_count": 27,
     "metadata": {},
     "output_type": "execute_result"
    }
   ],
   "source": [
    "g = df.groupby('continent')\n",
    "\n",
    "# standard aggregation functions\n",
    "g.mean()\n",
    "g.max()\n",
    "g.min()\n",
    "g.sum()\n",
    "g.count()\n",
    "g.std()\n",
    "g.median()\n",
    "g.quantile(0.9)\n",
    "g.describe()\n",
    "\n",
    "# Aggregation with selecting columns\n",
    "g['population'].describe()\n",
    "\n",
    "# Aggregation with a list of function names\n",
    "g.agg(['count', 'mean', 'std'])\n",
    "g.agg([('Total', 'sum')])        # includes label\n",
    "\n",
    "# custom aggregation function with parameter\n",
    "def sum_greater(dataframe, threshold):\n",
    "    for column in dataframe.columns:\n",
    "        return dataframe[dataframe[column]>threshold].sum()\n",
    "    \n",
    "g.agg(sum_greater, threshold=200)\n"
   ]
  },
  {
   "cell_type": "code",
   "execution_count": null,
   "id": "f8b70e26",
   "metadata": {},
   "outputs": [],
   "source": []
  },
  {
   "cell_type": "code",
   "execution_count": 26,
   "id": "3f2c4d79",
   "metadata": {},
   "outputs": [
    {
     "ename": "NameError",
     "evalue": "name 'g' is not defined",
     "output_type": "error",
     "traceback": [
      "\u001b[0;31m---------------------------------------------------------------------------\u001b[0m",
      "\u001b[0;31mNameError\u001b[0m                                 Traceback (most recent call last)",
      "Cell \u001b[0;32mIn[26], line 2\u001b[0m\n\u001b[1;32m      1\u001b[0m \u001b[38;5;66;03m# Transformation by function name\u001b[39;00m\n\u001b[0;32m----> 2\u001b[0m g\u001b[38;5;241m.\u001b[39mtransform(\u001b[38;5;124m'\u001b[39m\u001b[38;5;124mmean\u001b[39m\u001b[38;5;124m'\u001b[39m)\n",
      "\u001b[0;31mNameError\u001b[0m: name 'g' is not defined"
     ]
    }
   ],
   "source": [
    "\n",
    "# Transformation by function name\n",
    "g.transform('mean')"
   ]
  },
  {
   "cell_type": "code",
   "execution_count": null,
   "id": "82e0ea76",
   "metadata": {},
   "outputs": [],
   "source": []
  }
 ],
 "metadata": {
  "kernelspec": {
   "display_name": "Python 3 (ipykernel)",
   "language": "python",
   "name": "python3"
  },
  "language_info": {
   "codemirror_mode": {
    "name": "ipython",
    "version": 3
   },
   "file_extension": ".py",
   "mimetype": "text/x-python",
   "name": "python",
   "nbconvert_exporter": "python",
   "pygments_lexer": "ipython3",
   "version": "3.11.5"
  }
 },
 "nbformat": 4,
 "nbformat_minor": 5
}
